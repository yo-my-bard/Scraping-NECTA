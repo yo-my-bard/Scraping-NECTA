{
 "cells": [
  {
   "cell_type": "code",
   "execution_count": 1,
   "metadata": {
    "collapsed": true
   },
   "outputs": [],
   "source": [
    "import pandas as pd\n",
    "import re\n",
    "import numpy as np"
   ]
  },
  {
   "cell_type": "code",
   "execution_count": 72,
   "metadata": {
    "collapsed": true,
    "scrolled": false
   },
   "outputs": [],
   "source": [
    "#Read the excel sheet with the schools ranked for that particular year, downloaded from NECTA Education Dashboard\n",
    "#It's important to do this for every year because regions and districts change frequently.\n",
    "excel = pd.read_excel(\"~/Documents/GitHub/ImportingNECTA/PSLE2017_RANKING.xls\", header=2) #tinker with header for correct header"
   ]
  },
  {
   "cell_type": "code",
   "execution_count": 73,
   "metadata": {},
   "outputs": [
    {
     "name": "stdout",
     "output_type": "stream",
     "text": [
      "Index(['Color Code: Green: High Performing Schools; Yellow: Medium Performing Schools; Red: Low Performing Schools',\n",
      "       'Unnamed: 1', 'Unnamed: 2', 'Unnamed: 3', 'Unnamed: 4', 'Unnamed: 5',\n",
      "       'Unnamed: 6', 'Unnamed: 7', 'Unnamed: 8', 'Unnamed: 9', 'Unnamed: 10',\n",
      "       'Unnamed: 11', 'Unnamed: 12'],\n",
      "      dtype='object')\n"
     ]
    }
   ],
   "source": [
    "#Review the column names that will be changed\n",
    "print(excel.columns)"
   ]
  },
  {
   "cell_type": "code",
   "execution_count": 74,
   "metadata": {},
   "outputs": [
    {
     "name": "stdout",
     "output_type": "stream",
     "text": [
      "  CENTRE CODE                     CENTRE NAME DISTRICT NAME REGION NAME  \\\n",
      "1  PS0504-112  ST PETER CLAVER PRIMARY SCHOOL       KARAGWE      KAGERA   \n",
      "2  PS0501-076      ST SEVERINE PRIMARY SCHOOL    BIHARAMULO      KAGERA   \n",
      "3  PS1304-001         ALLIANCE PRIMARY SCHOOL   MWANZA JIJI      MWANZA   \n",
      "4  PS2007-046         SIR JOHN PRIMARY SCHOOL   TANGA MJINI       TANGA   \n",
      "5  PS1701-062          PALIKAS PRIMARY SCHOOL    KAHAMA MJI   SHINYANGA   \n",
      "\n",
      "  CLEAN CANDIDATES 2017 NUMBER OF STUDENTS PASSED (A-C)  \\\n",
      "1                    46                              46   \n",
      "2                    66                              66   \n",
      "3                    42                              42   \n",
      "4                    41                              41   \n",
      "5                    53                              53   \n",
      "\n",
      "  AVERAGE TOTAL MARKS (/250) 2017 AVERAGE TOTAL MARKS (/250) 2016  \\\n",
      "1                           231.3                          216.55   \n",
      "2                          227.02                          196.48   \n",
      "3                          226.64                          222.56   \n",
      "4                          226.41                          170.85   \n",
      "5                          224.79                          218.47   \n",
      "\n",
      "  CHANGE ON AVERAGE TOTAL MARKS FROM 2016 BAND OF SCHOOL 2017  \\\n",
      "1                                   14.75                   1   \n",
      "2                                   30.54                   2   \n",
      "3                                    4.08                   2   \n",
      "4                                   55.56                   2   \n",
      "5                                    6.32                   2   \n",
      "\n",
      "  BAND OF SCHOOL 2016 RANK OF SCHOOL 2017 RANK OF SCHOOL 2016  \n",
      "1                   2                   1                  12  \n",
      "2                   3                   2                 116  \n",
      "3                   2                   3                   8  \n",
      "4                   4                   4                 523  \n",
      "5                   2                   5                  16  \n"
     ]
    }
   ],
   "source": [
    "def new_columns_dict(data):\n",
    "    \"\"\"\n",
    "    Collect second row for new column headers to be used for .rename() call.\n",
    "    Assumes new columns are in the second row. Should only be run unless rereading the file later.\n",
    "    Returns dictionary of {OldColumn: NewColumn}\n",
    "    \"\"\"\n",
    "    #Initialize dict with None values\n",
    "    columns = {k:None for k in data.columns}\n",
    "    #Put new column names in indexed\n",
    "    new_columns = data.iloc[0]\n",
    "    i = 0\n",
    "    for column in data.columns:\n",
    "        columns[column] = new_columns[i]\n",
    "        i+=1\n",
    "    data.drop(0, inplace=True)\n",
    "    return columns\n",
    "\n",
    "#Renaming the columns\n",
    "excel.rename(columns=new_columns_dict(excel), inplace=True)\n",
    "\n",
    "#Check to ensure intended effects. Note: Column names are case sensitive!\n",
    "print(excel.head())"
   ]
  },
  {
   "cell_type": "code",
   "execution_count": 75,
   "metadata": {},
   "outputs": [
    {
     "name": "stdout",
     "output_type": "stream",
     "text": [
      "186\n"
     ]
    }
   ],
   "source": [
    "#Sanity check for the number of districts we should expect. CENTRE CODE is a unique school code, but it contains\n",
    "#Region-District identifier PS[two digit region][two digit district]. Compare with Google searches!\n",
    "\n",
    "print(len(excel[\"CENTRE CODE\"].map(lambda x: x[:x.index(\"-\")]).unique()))"
   ]
  },
  {
   "cell_type": "code",
   "execution_count": 76,
   "metadata": {},
   "outputs": [
    {
     "name": "stdout",
     "output_type": "stream",
     "text": [
      "  CENTRE CODE DISTRICT NAME REGION NAME\n",
      "1      PS0504       KARAGWE      KAGERA\n",
      "2      PS0501    BIHARAMULO      KAGERA\n",
      "3      PS1304   MWANZA JIJI      MWANZA\n",
      "4      PS2007   TANGA MJINI       TANGA\n",
      "5      PS1701    KAHAMA MJI   SHINYANGA\n"
     ]
    },
    {
     "name": "stderr",
     "output_type": "stream",
     "text": [
      "/Users/Muse/anaconda/lib/python3.6/site-packages/pandas/core/indexing.py:601: SettingWithCopyWarning: \n",
      "A value is trying to be set on a copy of a slice from a DataFrame.\n",
      "Try using .loc[row_indexer,col_indexer] = value instead\n",
      "\n",
      "See the caveats in the documentation: http://pandas.pydata.org/pandas-docs/stable/indexing.html#indexing-view-versus-copy\n",
      "  self.obj[item_labels[indexer[info_axis]]] = value\n"
     ]
    }
   ],
   "source": [
    "#While Region names are guaranteed to be unique, district names may not be (Turns out that they are for those curious).\n",
    "#In order to ensure unique district names, we make a unique identifier that uses Region-District together. We do so \n",
    "#by calling the .groupby() function.\n",
    "\n",
    "def get_unique_groups(data):\n",
    "    \"\"\"\n",
    "    Uses the pre-processed excel data to return unique Region-District groups with unique CENTRE CODE values.\n",
    "    \"\"\"\n",
    "    groupby = data.groupby(['REGION NAME', 'DISTRICT NAME'])['CENTRE CODE', 'DISTRICT NAME', 'REGION NAME'] #I index for just three columns for clarity\n",
    "\n",
    "    #Groupby returns an object that has other calling functions. Naturally, we want to check to see if it grouped,\n",
    "    #so we use .head(). It took a while, but I finally understood what .head is doing with a groupby object. \n",
    "    #By not specifying .head(1), I was not getting unique Region-District combinations. Rather it included up to 5 of\n",
    "    #the Region-District combinations.\n",
    "\n",
    "    unique_groups = groupby.head(1)\n",
    "\n",
    "    #Remeber that lambda function used in the sanity check? We are revisiting it here for the next step. We have unique,\n",
    "    #Region-District combinations in unique_groups, however the CENTRE CODE values are more concise and contain\n",
    "    #a single value to reflect unique Region-District combinations. We take out school information after the dash\n",
    "    #using the lambda function for every CENTRE CODE. We get the settingwithcopywarning, but when checking unique_groups,\n",
    "    #the values did get updated.\n",
    "\n",
    "    unique_groups.loc[:,\"CENTRE CODE\"] = unique_groups.loc[:,\"CENTRE CODE\"].map(lambda x: x[:x.index(\"-\")])\n",
    "    \n",
    "    return unique_groups\n",
    "\n",
    "unique_groups = get_unique_groups(excel)\n",
    "\n",
    "#Check the values of unique_groups\n",
    "print(unique_groups.head())\n"
   ]
  },
  {
   "cell_type": "code",
   "execution_count": 78,
   "metadata": {},
   "outputs": [
    {
     "name": "stderr",
     "output_type": "stream",
     "text": [
      "/Users/Muse/anaconda/lib/python3.6/site-packages/pandas/core/indexing.py:601: SettingWithCopyWarning: \n",
      "A value is trying to be set on a copy of a slice from a DataFrame.\n",
      "Try using .loc[row_indexer,col_indexer] = value instead\n",
      "\n",
      "See the caveats in the documentation: http://pandas.pydata.org/pandas-docs/stable/indexing.html#indexing-view-versus-copy\n",
      "  self.obj[item_labels[indexer[info_axis]]] = value\n",
      "/Users/Muse/anaconda/lib/python3.6/site-packages/ipykernel_launcher.py:44: SettingWithCopyWarning: \n",
      "A value is trying to be set on a copy of a slice from a DataFrame\n",
      "\n",
      "See the caveats in the documentation: http://pandas.pydata.org/pandas-docs/stable/indexing.html#indexing-view-versus-copy\n",
      "/Users/Muse/anaconda/lib/python3.6/site-packages/ipykernel_launcher.py:47: SettingWithCopyWarning: \n",
      "A value is trying to be set on a copy of a slice from a DataFrame\n",
      "\n",
      "See the caveats in the documentation: http://pandas.pydata.org/pandas-docs/stable/indexing.html#indexing-view-versus-copy\n"
     ]
    },
    {
     "name": "stdout",
     "output_type": "stream",
     "text": [
      "         CAND_NO  SEX  Kiswahili  English  Maarifa  Hisabati  Science  \\\n",
      "0  PS0107001-001    0        4.0      1.0      2.0       1.0      3.0   \n",
      "1  PS0107001-002    0        4.0      2.0      2.0       2.0      2.0   \n",
      "2  PS0107001-003    0        4.0      2.0      2.0       2.0      2.0   \n",
      "3  PS0107001-004    0        3.0      2.0      2.0       3.0      4.0   \n",
      "4  PS0107001-005    0        3.0      2.0      3.0       2.0      3.0   \n",
      "\n",
      "   Average_Grade  CalcAverage    District  Region  \n",
      "0            2.0          2.2  NGORONGORO  ARUSHA  \n",
      "1            2.0          2.4  NGORONGORO  ARUSHA  \n",
      "2            2.0          2.4  NGORONGORO  ARUSHA  \n",
      "3            3.0          2.8  NGORONGORO  ARUSHA  \n",
      "4            3.0          2.6  NGORONGORO  ARUSHA  \n"
     ]
    }
   ],
   "source": [
    "#With unique_groups, we have the identifier and the Region-District it belongs to. Unfortunately, this information was\n",
    "#not explicitly included when scraping the NECTA site. However, having this reference table/dataframe, allows us\n",
    "#to now map Districts to each student. Here is an example that uses 2014's data.\n",
    "\n",
    "#Read the scraped PSLE data.\n",
    "psle2017 = pd.read_csv(\"~/...\")\n",
    "\n",
    "def categorize_locations(psle,unique_groups):\n",
    "    \"\"\"\n",
    "    Adds a Region and District column and populates that year's PSLE scores with the locations.\n",
    "    Expects properly formatted psle and unique_groups value from get_unique_groups function.\n",
    "    Returns the original dataset with locations attached.\n",
    "    \"\"\"\n",
    "\n",
    "    #Create a new column, District, and set values to NaN. Sets Region values to NaN.\n",
    "    psle[\"District\"] = np.nan\n",
    "    psle[\"Region\"] = np.nan\n",
    "\n",
    "    #Dictionary comprehension that uses regular expression of each Region-District unique code as a key, and sets value to\n",
    "    #None for now. This was a necessary improvement over the previous Region approach (i.e. assigning 25 variables)\n",
    "    districts = {re.compile(r'^'+key):None for key in unique_groups['CENTRE CODE']}\n",
    "    \n",
    "    #For regions:\n",
    "    region_groups = unique_groups.groupby('REGION NAME').head(1)\n",
    "    regions = {re.compile(r'^'+key[:4]):None for key in region_groups['CENTRE CODE']}\n",
    "\n",
    "    #This has been delayed for a while now, but the groupby function approach preserved indexing prior to groupby, but\n",
    "    #for our upcoming iterations, it's good to ensure that we reset_index to a 0-based index again.\n",
    "    unique_groups.reset_index(drop=True, inplace=True)\n",
    "    region_groups.reset_index(drop=True, inplace=True)\n",
    "\n",
    "    #Set a counter for iteration, and replace each regular expression key value, with its appropriate location name.\n",
    "    i=0\n",
    "    for key,value in districts.items():\n",
    "        districts[key]=unique_groups.loc[i,'DISTRICT NAME']\n",
    "        i+=1\n",
    "    r=0\n",
    "    for key,value in regions.items():\n",
    "        regions[key]=region_groups.loc[r,'REGION NAME']\n",
    "        r+=1\n",
    "    \n",
    "    #Finally, apply the new spatial categories to the PSLE data. You'll get settingwithcopywarning.\n",
    "    for key, value in districts.items():\n",
    "        psle.loc[:,'District'][psle.loc[:, 'CAND_NO'].str.match(key)] = value\n",
    "    \n",
    "    for key, value in regions.items():\n",
    "        psle.loc[:,'Region'][psle.loc[:, 'CAND_NO'].str.match(key)] = value\n",
    "    \n",
    "    return psle\n",
    "\n",
    "#Run the function\n",
    "psle2017 = categorize_locations(psle2017,get_unique_groups(excel))\n",
    "\n",
    "#As always, check to ensure intended effects. And it should now have spatial data updated appropriately.\n",
    "print(psle2017.head())"
   ]
  },
  {
   "cell_type": "code",
   "execution_count": 82,
   "metadata": {},
   "outputs": [],
   "source": [
    "#Save complete file to desired location.\n",
    "#psle2017.to_csv(\"~/...\", index=False)\n",
    "\n",
    "#Can check for any nan in District column by:\n",
    "#psle2017.District.unique()"
   ]
  },
  {
   "cell_type": "markdown",
   "metadata": {},
   "source": [
    "And that's how you reverse engineer regions/districts from Candidate Numbers!"
   ]
  },
  {
   "cell_type": "code",
   "execution_count": null,
   "metadata": {
    "collapsed": true
   },
   "outputs": [],
   "source": []
  }
 ],
 "metadata": {
  "kernelspec": {
   "display_name": "Python 3",
   "language": "python",
   "name": "python3"
  },
  "language_info": {
   "codemirror_mode": {
    "name": "ipython",
    "version": 3
   },
   "file_extension": ".py",
   "mimetype": "text/x-python",
   "name": "python",
   "nbconvert_exporter": "python",
   "pygments_lexer": "ipython3",
   "version": "3.6.1"
  }
 },
 "nbformat": 4,
 "nbformat_minor": 2
}
