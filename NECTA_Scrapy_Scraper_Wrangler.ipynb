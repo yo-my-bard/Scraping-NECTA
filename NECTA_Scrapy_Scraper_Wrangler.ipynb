{
 "cells": [
  {
   "cell_type": "markdown",
   "metadata": {},
   "source": [
    "### After running the Scrapy scraper, the data needs to be processed. This wrangler is structured to handle the scraper's output file for the Examination type."
   ]
  },
  {
   "cell_type": "code",
   "execution_count": null,
   "metadata": {},
   "outputs": [],
   "source": [
    "import json\n",
    "import pandas as pd"
   ]
  },
  {
   "cell_type": "markdown",
   "metadata": {},
   "source": [
    "#### PSLE"
   ]
  },
  {
   "cell_type": "code",
   "execution_count": null,
   "metadata": {},
   "outputs": [],
   "source": [
    "l = list()\n",
    "\n",
    "with open('./scraper/export/psle.jl', 'r') as File:\n",
    "    for line in File:\n",
    "        l.append((json.loads(line)))\n",
    "    File.close()"
   ]
  },
  {
   "cell_type": "code",
   "execution_count": null,
   "metadata": {},
   "outputs": [],
   "source": [
    "#for each json line, extract key/value into a tuple. This is based on the Item pipeline structure from Scrapy\n",
    "list_of_dfs_with_metadata = [(j['tables'][0], j['region'], j['district'], j['school']) for j in l]\n",
    "\n",
    "#Make a list of just the DFs\n",
    "list_of_dfs = [df[0] for df in list_of_dfs_with_metadata]"
   ]
  },
  {
   "cell_type": "code",
   "execution_count": null,
   "metadata": {},
   "outputs": [],
   "source": [
    "#Attach the metadata to the actual DataFrame as new columns. Though rare, we do expect some errors might occur\n",
    "#as a result of a pipeline failure. Currently, one example is a whole school's scores being invalidated (*W marker).\n",
    "#In this instance, nothing went wrong with the scraping, but the process doesn't account for returning a school\n",
    "#dataframe that is empty. Again, that HTML is still available for the school but because no other *W rows are saved,\n",
    "#we are okay with this school being omitted to maintain consistency.\n",
    "omit_error_indices = []\n",
    "for num, item in enumerate(list_of_dfs_with_metadata):\n",
    "    try:\n",
    "        item[0]['region'] = item[1]\n",
    "        item[0]['district'] = item[2]\n",
    "        item[0]['school'] = item[3]\n",
    "    except Exception as e:\n",
    "        print(num, e, item)\n",
    "        omit_error_indices.append(num)"
   ]
  },
  {
   "cell_type": "code",
   "execution_count": null,
   "metadata": {},
   "outputs": [],
   "source": [
    "omit_error_indices"
   ]
  },
  {
   "cell_type": "code",
   "execution_count": null,
   "metadata": {},
   "outputs": [],
   "source": [
    "#Map is nice\n",
    "for omit in omit_error_indices:\n",
    "    list_of_dfs.pop(omit) #don't run this twice! :) \n",
    "    \n",
    "all_psle = pd.concat([df for df in map(pd.DataFrame, list_of_dfs)])"
   ]
  },
  {
   "cell_type": "code",
   "execution_count": null,
   "metadata": {},
   "outputs": [],
   "source": [
    "all_psle.to_csv('./CompleteDatasets/necta_psle_2018.csv', index=False)"
   ]
  },
  {
   "cell_type": "code",
   "execution_count": null,
   "metadata": {},
   "outputs": [],
   "source": []
  }
 ],
 "metadata": {
  "kernelspec": {
   "display_name": "Python 3",
   "language": "python",
   "name": "python3"
  },
  "language_info": {
   "codemirror_mode": {
    "name": "ipython",
    "version": 3
   },
   "file_extension": ".py",
   "mimetype": "text/x-python",
   "name": "python",
   "nbconvert_exporter": "python",
   "pygments_lexer": "ipython3",
   "version": "3.7.1"
  }
 },
 "nbformat": 4,
 "nbformat_minor": 2
}
