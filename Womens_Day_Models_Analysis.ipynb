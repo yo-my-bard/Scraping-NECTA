{
 "cells": [
  {
   "cell_type": "code",
   "execution_count": 1,
   "metadata": {
    "collapsed": true
   },
   "outputs": [],
   "source": [
    "import pandas as pd\n",
    "from statsmodels.formula.api import ols"
   ]
  },
  {
   "cell_type": "markdown",
   "metadata": {},
   "source": [
    "For International Women's Day, I was inspired by tweets that zeroed in on women - more so than usual anyway. I am a day late because leading up to that, I was focused on analyzing this particular dataset for finding regional variances. My interest was mostly at the nexus of place and education in Tanzania and how using such data can create a more targeted organizational approach to tackling the toughest educational inequalities.\n",
    "\n",
    "One such inequality is across the sexes. No patience for punchlines here: educational outcomes for Tanzanian girls is unequal compared to their counterparts. We have some indication across the board of what levers the government (local and national) can begin to tinker with to close these gaps. In this quick linear regression, I use the 2013 Primary School Leaving Examination (PSLE) outcomes to try to capture the magnitude of the inequality. My past research has mostly found this magnitude expressed in terms of absenteeism, pass-fail differences, etc. To be clear, those values are likely more impactful and more clear-cut. Quite frankly, this analysis is closely tied to them as I'll be looking at the Calculated Average PSLE score and gender's effect on it. If you can close the pass-fail gaps or address various causes of absenteeism, my assumption is we would see the effect of gender narrow. Let's get to it.\n",
    "\n",
    "First, we read in our data using pandas and clean out some N/A values. For this quick analysis, I look at two categorical variables: Sex and Regions. I already dummy coded Sex (Female = 1, Male = 0) when cleaning up the scraped data, but pandas can also dummy code all 25 regions. Statsmodels' ols function does this step for you as well when fitting your model so I opt for this instead. (Many thanks to scipy-lectures for their tutorial on setting this up using ols)"
   ]
  },
  {
   "cell_type": "code",
   "execution_count": 2,
   "metadata": {},
   "outputs": [
    {
     "name": "stdout",
     "output_type": "stream",
     "text": [
      "                            OLS Regression Results                            \n",
      "==============================================================================\n",
      "Dep. Variable:            CalcAverage   R-squared:                       0.075\n",
      "Model:                            OLS   Adj. R-squared:                  0.075\n",
      "Method:                 Least Squares   F-statistic:                     2748.\n",
      "Date:                Fri, 09 Mar 2018   Prob (F-statistic):               0.00\n",
      "Time:                        23:14:15   Log-Likelihood:            -8.9027e+05\n",
      "No. Observations:              844297   AIC:                         1.781e+06\n",
      "Df Residuals:                  844271   BIC:                         1.781e+06\n",
      "Df Model:                          25                                         \n",
      "Covariance Type:            nonrobust                                         \n",
      "==================================================================================\n",
      "                     coef    std err          t      P>|t|      [0.025      0.975]\n",
      "----------------------------------------------------------------------------------\n",
      "Intercept          2.7540      0.004    728.468      0.000       2.747       2.761\n",
      "regions[T.DAR]     0.2880      0.005     62.197      0.000       0.279       0.297\n",
      "regions[T.DOD]    -0.3458      0.005    -67.920      0.000      -0.356      -0.336\n",
      "regions[T.GEI]    -0.1413      0.005    -25.767      0.000      -0.152      -0.131\n",
      "regions[T.IRI]     0.0417      0.006      7.085      0.000       0.030       0.053\n",
      "regions[T.KAG]    -0.0118      0.005     -2.362      0.018      -0.022      -0.002\n",
      "regions[T.KAT]    -0.2414      0.009    -28.252      0.000      -0.258      -0.225\n",
      "regions[T.KIG]    -0.2975      0.005    -55.388      0.000      -0.308      -0.287\n",
      "regions[T.KIL]     0.0402      0.005      7.879      0.000       0.030       0.050\n",
      "regions[T.LIN]    -0.2817      0.007    -43.164      0.000      -0.295      -0.269\n",
      "regions[T.MAN]    -0.2927      0.006    -51.663      0.000      -0.304      -0.282\n",
      "regions[T.MAR]    -0.3216      0.005    -65.223      0.000      -0.331      -0.312\n",
      "regions[T.MBE]    -0.2481      0.005    -54.096      0.000      -0.257      -0.239\n",
      "regions[T.MOR]    -0.1563      0.005    -31.504      0.000      -0.166      -0.147\n",
      "regions[T.MTW]    -0.2220      0.006    -39.432      0.000      -0.233      -0.211\n",
      "regions[T.MWA]    -0.0219      0.005     -4.659      0.000      -0.031      -0.013\n",
      "regions[T.NJO]    -0.0326      0.006     -5.197      0.000      -0.045      -0.020\n",
      "regions[T.PWA]    -0.1316      0.006    -22.716      0.000      -0.143      -0.120\n",
      "regions[T.RUK]    -0.3263      0.006    -50.416      0.000      -0.339      -0.314\n",
      "regions[T.RUV]    -0.3494      0.005    -64.447      0.000      -0.360      -0.339\n",
      "regions[T.SHI]    -0.1829      0.006    -32.884      0.000      -0.194      -0.172\n",
      "regions[T.SIM]    -0.3631      0.005    -66.669      0.000      -0.374      -0.352\n",
      "regions[T.SIN]    -0.3315      0.006    -58.161      0.000      -0.343      -0.320\n",
      "regions[T.TAB]    -0.3781      0.005    -73.183      0.000      -0.388      -0.368\n",
      "regions[T.TAN]     0.0026      0.005      0.509      0.611      -0.007       0.012\n",
      "sex               -0.1376      0.002    -90.816      0.000      -0.141      -0.135\n",
      "==============================================================================\n",
      "Omnibus:                    34235.368   Durbin-Watson:                   1.126\n",
      "Prob(Omnibus):                  0.000   Jarque-Bera (JB):            38535.362\n",
      "Skew:                           0.516   Prob(JB):                         0.00\n",
      "Kurtosis:                       3.174   Cond. No.                         29.5\n",
      "==============================================================================\n",
      "\n",
      "Warnings:\n",
      "[1] Standard Errors assume that the covariance matrix of the errors is correctly specified.\n"
     ]
    }
   ],
   "source": [
    "#Read in CSV\n",
    "psle2013 = pd.read_csv(\"~/Documents/GitHub/ImportingNECTA/CompleteDatasets/necta_psle_2013.csv\")\n",
    "\n",
    "#Drop NAs, get Dummies if desired, call .head to check dataframe if desired\n",
    "psle2013_noNA = psle2013.dropna(axis=0, how='any')\n",
    "psle2013_noNA2 = pd.get_dummies(psle2013_noNA, columns=['Region'])\n",
    "\n",
    "#Assign variables for building the model\n",
    "CalcAverage = psle2013_noNA.CalcAverage\n",
    "sex = psle2013_noNA.SEX\n",
    "regions = psle2013_noNA.Region\n",
    "\n",
    "#For just the DAR-ES-SALAAM Dummy Variable\n",
    "dar = psle2013_noNA2.Region_DAR\n",
    "\n",
    "#Build the model, print the model summary\n",
    "model = ols(\"CalcAverage ~ sex + regions\", psle2013_noNA).fit()\n",
    "print(model.summary())\n"
   ]
  },
  {
   "cell_type": "code",
   "execution_count": 3,
   "metadata": {},
   "outputs": [
    {
     "name": "stdout",
     "output_type": "stream",
     "text": [
      "Girls' Mean Calculated Average Score: 2.467210504122669\n",
      "Girls' Median Calculated Average Score: 2.4\n",
      "Boys' Mean Calculated Average Score: 2.6070221581969726\n",
      "Boys' Median Calculated Average Score: 2.6\n"
     ]
    }
   ],
   "source": [
    "print(\"Girls' Mean Calculated Average Score: \"+str(psle2013_noNA[psle2013_noNA.SEX == 1]['CalcAverage'].mean()))\n",
    "print(\"Girls' Median Calculated Average Score: \"+ str(psle2013_noNA[psle2013_noNA.SEX == 1]['CalcAverage'].median()))\n",
    "print(\"Boys' Mean Calculated Average Score: \"+ str(psle2013_noNA[psle2013_noNA.SEX == 0]['CalcAverage'].mean()))\n",
    "print(\"Boys' Median Calculated Average Score: \"+ str(psle2013_noNA[psle2013_noNA.SEX == 0]['CalcAverage'].median()))\n"
   ]
  },
  {
   "cell_type": "markdown",
   "metadata": {},
   "source": [
    "The results show the regression taking into account regions. However, all else equal, girls on average scored -0.13 less on their calculated average score. Consequently, assuming a score of 3 (2.5+) is passing, the magnitude could very well be the difference between passing and failing the exam. I feel that this needs some reiteration: because of the system as currently implemented, being born a girl could have been the difference between passing or failing the PSLE in 2013. Since then, PSLE is no longer a barrier to attending secondary education. However, the fight is not won as other discriminatory practices have taken its place (e.g. banning once pregnant girls from continuing their education). Unfortunately, this discussion is still very high level. I'm going to continue to piece together data that might give more actionable items to close these gaps. In the meantime, check the work of good people like Dropwall (eagleanalytics.co.tz) who are working on a system that predicts potential dropouts. Literature shows that the issues they are finding are of acute importance to girls."
   ]
  },
  {
   "cell_type": "code",
   "execution_count": null,
   "metadata": {
    "collapsed": true
   },
   "outputs": [],
   "source": []
  }
 ],
 "metadata": {
  "kernelspec": {
   "display_name": "Python 3",
   "language": "python",
   "name": "python3"
  },
  "language_info": {
   "codemirror_mode": {
    "name": "ipython",
    "version": 3
   },
   "file_extension": ".py",
   "mimetype": "text/x-python",
   "name": "python",
   "nbconvert_exporter": "python",
   "pygments_lexer": "ipython3",
   "version": "3.6.1"
  }
 },
 "nbformat": 4,
 "nbformat_minor": 2
}
