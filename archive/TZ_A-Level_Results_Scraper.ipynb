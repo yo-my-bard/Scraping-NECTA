{
 "cells": [
  {
   "cell_type": "code",
   "execution_count": null,
   "metadata": {},
   "outputs": [],
   "source": [
    "import pandas as pd\n",
    "import re\n",
    "from bs4 import BeautifulSoup \n",
    "import requests\n",
    "import time"
   ]
  },
  {
   "cell_type": "code",
   "execution_count": null,
   "metadata": {},
   "outputs": [],
   "source": [
    "#Get the year's HTML page\n",
    "page = requests.get(\"https://www.necta.go.tz/results/2017/acsee/index.htm\").text\n",
    "soup = BeautifulSoup(page, \"lxml\")"
   ]
  },
  {
   "cell_type": "code",
   "execution_count": null,
   "metadata": {},
   "outputs": [],
   "source": [
    "#Put all the links in a list\n",
    "schoolUrls2017 = [\"https://www.necta.go.tz/results/2017/acsee/\"+i['href'] for i in soup.find_all(\"table\")[2].find_all(\"a\")]"
   ]
  },
  {
   "cell_type": "code",
   "execution_count": null,
   "metadata": {},
   "outputs": [],
   "source": [
    "print(schoolUrls2017[:3])\n",
    "len(schoolUrls2017)"
   ]
  },
  {
   "cell_type": "code",
   "execution_count": null,
   "metadata": {
    "scrolled": true
   },
   "outputs": [],
   "source": [
    "#Some helper functions\n",
    "\n",
    "def list_subjects(cell):\n",
    "    subject_list = [subject.replace(\"'\", '') for subject in re.split(\"'\\s\", cell)]\n",
    "    #subject_list.sort() #thought I may want to sort the list, but I don't think that step is necessary.\n",
    "    return subject_list\n",
    "\n",
    "def pull_subject(subj):\n",
    "    return re.search(r'(^[A-Za-z\\/]*)', subj).group()\n",
    "\n",
    "def make_subject_columns(df):\n",
    "    #Slight inspired by this: https://stackoverflow.com/questions/44663903/pandas-split-column-of-lists-of-unequal-length-into-multiple-columns\n",
    "    for row in df.itertuples():\n",
    "        for subject in row[5]:\n",
    "            df.loc[row[0], pull_subject(subject)] = subject\n",
    "    return df\n",
    "\n",
    "def clean_grades(df):\n",
    "    df.fillna(\"X\", inplace=True)\n",
    "    df.iloc[:, 5:] = df.iloc[:, 5:].applymap(lambda x: x[-1])\n",
    "    del df[\"DETAILED SUBJECTS\"]\n",
    "    return df\n",
    "\n",
    "#Put all the tables in a list, then concat the tables into a single dataframe\n",
    "all_acsee = []\n",
    "for i in schoolUrls2017:\n",
    "    try:\n",
    "        alevel = pd.read_html(i, header=0)[0]\n",
    "\n",
    "        #Listify the list of subject grades, grades for each row in Detailed Subjects column\n",
    "        alevel.loc[:,\"DETAILED SUBJECTS\"] = alevel.loc[:,\"DETAILED SUBJECTS\"].apply(lambda x: list_subjects(x))\n",
    "\n",
    "        #Split the grades and make columns for them\n",
    "        make_subject_columns(alevel)\n",
    "\n",
    "        #Tidy up grade data\n",
    "        clean_grades(alevel)\n",
    "\n",
    "        #Add this school's table to the list of all_acsee schools\n",
    "        all_acsee.append(alevel)\n",
    "        time.sleep(6)\n",
    "    except Exception as e:\n",
    "        print((schoolUrls2017.index(i), i, e))\n",
    "        time.sleep(60)\n",
    "        continue\n",
    "\n",
    "all_acsee_df = pd.concat(all_acsee, axis=0, ignore_index=True)\n",
    "all_acsee_df.head()\n",
    "\n",
    "#F column is: all_acsee_fullDF.rename(columns={'F': 'F & HN NUTRITION'}, inplace=True)\n",
    "#Empty string column, '', is *W *E *R students who don't have any subject data. del all_acsee_fullDF['']\n",
    "#Re-order the columns by calling .columns and copy-pasting into a subselect in preferred order"
   ]
  },
  {
   "cell_type": "code",
   "execution_count": null,
   "metadata": {},
   "outputs": [],
   "source": [
    "all_acsee_df.columns\n",
    "all_acsee_df.rename(columns={'F': 'F & HN NUTRITION'}, inplace=True)\n",
    "del all_acsee_df['']\n",
    "all_acsee_df = all_acsee_df[['CNO', 'SEX', 'AGGT', 'DIV', 'ACCOUNTANCY', 'ADV/MATHS', 'AGRICULTURE', 'ARABIC', 'BAM',\n",
    "       'BIOLOGY', 'CHEMISTRY', 'COMMERCE', 'COMP/SCIENCE',\n",
    "       'DIVINITY', 'ECONOMICS', 'ENGLISH', 'F & HN NUTRITION', 'FRENCH', 'G/STUDIES', 'GEOGR',\n",
    "       'HISTORY', 'IS/KNOWLEDGE', 'KISWAHILI', 'PHYSICS']]\n",
    "\n",
    "all_acsee_df.to_csv(\"./CompleteDatasets/necta_acsee_2017.csv\", index=False)"
   ]
  },
  {
   "cell_type": "code",
   "execution_count": null,
   "metadata": {},
   "outputs": [],
   "source": [
    "len(all_acsee_df.columns)"
   ]
  },
  {
   "cell_type": "code",
   "execution_count": null,
   "metadata": {
    "scrolled": true
   },
   "outputs": [],
   "source": [
    "#make long form\n",
    "alvl.melt(id_vars=[\"CNO\", \"SEX\", \"AGGT\", \"DIV\"], var_name=\"Subjects\", value_name=\"Grade\").sort_values(\"CNO\")"
   ]
  },
  {
   "cell_type": "markdown",
   "metadata": {
    "collapsed": true
   },
   "source": [
    "# Grabbing Metadata"
   ]
  },
  {
   "cell_type": "code",
   "execution_count": null,
   "metadata": {},
   "outputs": [],
   "source": [
    "import pickle\n",
    "import time\n",
    "\n",
    "acsee = pd.read_csv('CompleteDatasets/necta_acsee_2018.csv')\n",
    "centers = dict.fromkeys(acsee['CNO'].apply(lambda x: x.split('/')[0]).unique().tolist())\n",
    "\n",
    "for k,v in centers.items():\n",
    "    centers[k] = {'url': 'https://www.necta.go.tz/results/2018/acsee/results/'+k.lower()+'.htm'}\n",
    "    html_tables = pd.read_html(centers[k]['url']) #p's don't have meta-tables\n",
    "    try:\n",
    "        centers[k]['rankings'] = html_tables[2]\n",
    "        centers[k]['div_perform'] = html_tables[4]\n",
    "        centers[k]['subj_perform'] = html_tables[6]\n",
    "    except IndexError:\n",
    "        centers[k]['rankings'] = None\n",
    "        centers[k]['div_perform'] = None\n",
    "        centers[k]['subj_perform'] = None\n",
    "    print(centers[k])\n",
    "    time.sleep(3)\n",
    "\n",
    "pickle.dump(centers, open('CompleteDatasets/centers_meta_2018.pkl', 'wb'))\n",
    "pickle.load(open(\"CompleteDatasets/centers_meta_2018.pkl\", \"rb\"))"
   ]
  },
  {
   "cell_type": "markdown",
   "metadata": {},
   "source": [
    "Tanzania ina mifumo 2 ya utoaji elimu.\n",
    "1. Mfumo rasmi wa utoaji elimu ambapo wanafunzi wanasoma kutoka shule ya awali, msingi sekondari hadi chuo kikuu\n",
    "2. Mfumo usio rasmi wa utoaji elimu ambaopo mwanafunzi anajisomea mwenyewe kwenye vituo vya elimu na kisha wanafanya mtihani na inatambulika.\n",
    "\n",
    "Sasa unapokuja kwenye mitihani. Kituo cha mtihani yaani shule inaweza pia kuwa na kituo cha kufanya mtihani hapo sasa utaona tofauti ya namba.\n",
    "Wanafunzi wa shule wana namba zinazoanza na S.(means School candidate) na wale wasio rasmi wanaanza na P(means Private)\n",
    "Hivyo sio shule zote zina P.\n",
    "Ukiona kuna P hapo kuna wanafunzi ambao sio wanafunzi wa shule wanafanya mtihani"
   ]
  },
  {
   "cell_type": "markdown",
   "metadata": {},
   "source": [
    "* S: Results suspended pending clarification of observed anomalies either in candidates' entry details, involvement in cases of irregularities or misconduct in the examination.Results suspended due to centers or schools' failing to meet registration requirements (i.e. centers with less than 35 candidates).\n",
    "\n",
    "* E: Results withheld, pending proof of candidates' payment of requisite Examination fees.\n",
    "\n",
    "* I: INCOMPLETE Results due to candidates' missing Continous Assessment (CA) scores in all subjects offered.\n",
    "\n",
    "I: Incomplete results due to candidates' missing Continous Assessment(CA) scores in one or more subjects offered but not all.\n",
    "\n",
    "* W: Results withheld/nullified or canceled due to proven candidate's involvement in cases of dishonesty or irregularities before, during or after the examinations.\n",
    "\n",
    "* T: Results suspended due to candidates' attempting one or more subjects not registered for (pirate candidate).\n",
    "\n",
    "ABS: Candidate missed to take the Exam.\n",
    "\n",
    "FLD: Candidate failed the Exam.\n",
    "\n",
    "X: Candidate did not appear to take the exam for the particular registered subject."
   ]
  }
 ],
 "metadata": {
  "kernelspec": {
   "display_name": "Python 3",
   "language": "python",
   "name": "python3"
  },
  "language_info": {
   "codemirror_mode": {
    "name": "ipython",
    "version": 3
   },
   "file_extension": ".py",
   "mimetype": "text/x-python",
   "name": "python",
   "nbconvert_exporter": "python",
   "pygments_lexer": "ipython3",
   "version": "3.7.1"
  }
 },
 "nbformat": 4,
 "nbformat_minor": 2
}
