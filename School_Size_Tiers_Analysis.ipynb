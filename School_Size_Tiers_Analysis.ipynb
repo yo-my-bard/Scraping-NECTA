{
 "cells": [
  {
   "cell_type": "code",
   "execution_count": 65,
   "metadata": {},
   "outputs": [],
   "source": [
    "import pandas as pd\n",
    "import numpy as np\n",
    "import pickle\n",
    "import matplotlib.pyplot as plt"
   ]
  },
  {
   "cell_type": "code",
   "execution_count": 5,
   "metadata": {},
   "outputs": [],
   "source": [
    "acsee = pd.read_csv(\"CompleteDatasets/necta_acsee_2018.csv\")\n",
    "centersmeta = pickle.load(open('CompleteDatasets/centers_meta_2018.pkl', 'rb'))"
   ]
  },
  {
   "cell_type": "code",
   "execution_count": 114,
   "metadata": {},
   "outputs": [
    {
     "data": {
      "text/plain": [
       "CENTRE WITH 30 CANDIDATES OR MORE      74880\n",
       "CENTRE WITH LESS THAN 30 CANDIDATES     2265\n",
       "Name: centersize, dtype: int64"
      ]
     },
     "execution_count": 114,
     "metadata": {},
     "output_type": "execute_result"
    }
   ],
   "source": [
    "#Any noticeable performance differences between smaller schools and larger schools?\n",
    "\n",
    "divs = ['I', 'II', 'III', 'IV', '0']\n",
    "divs_pass = ['I', 'II']\n",
    "\n",
    "acsee['center'] = acsee['CNO'].apply(lambda x: x.split('/')[0])\n",
    "\n",
    "def get_region(center, centers_meta):\n",
    "    try:\n",
    "        return centers_meta[center]['rankings'].loc[0][1]\n",
    "    except AttributeError:\n",
    "        return np.nan\n",
    "\n",
    "def get_center_size(center, centers_meta):\n",
    "    try:\n",
    "        return centers_meta[center]['rankings'].loc[3][1]\n",
    "    except AttributeError:\n",
    "        return np.nan\n",
    "\n",
    "def get_tester_type(center):\n",
    "    if 'P' in center:\n",
    "        return 'Private'\n",
    "    else:\n",
    "        return 'School'\n",
    "\n",
    "acsee['region'] = acsee['center'].apply(lambda x: get_region(x, centersmeta))\n",
    "acsee['centersize'] = acsee['center'].apply(lambda x: get_center_size(x, centersmeta))\n",
    "acsee['testertype'] = acsee['center'].apply(lambda x: get_tester_type(x))\n",
    "acsee['centersize'].value_counts()"
   ]
  },
  {
   "cell_type": "code",
   "execution_count": 43,
   "metadata": {},
   "outputs": [
    {
     "name": "stdout",
     "output_type": "stream",
     "text": [
      "Centers with 30 candidates or more\n",
      "DIV\n",
      "II     0.442791\n",
      "III    0.404741\n",
      "I      0.106970\n",
      "IV     0.032389\n",
      "0      0.013109\n",
      "Name: DIV, dtype: float64\n",
      "\n",
      "Centers with less than 30 candidates\n",
      "DIV\n",
      "II     0.464143\n",
      "III    0.402673\n",
      "I      0.100223\n",
      "IV     0.025835\n",
      "0      0.007127\n",
      "Name: DIV, dtype: float64\n"
     ]
    }
   ],
   "source": [
    "print(\"Centers with 30 candidates or more\")\n",
    "print(acsee[acsee['DIV'].isin(divs)].groupby('centersize')['DIV'].value_counts()['CENTRE WITH 30 CANDIDATES OR MORE']/acsee[acsee['DIV'].isin(divs)]['centersize'].value_counts()['CENTRE WITH 30 CANDIDATES OR MORE'])\n",
    "print(\"\\nCenters with less than 30 candidates\")\n",
    "print(acsee[acsee['DIV'].isin(divs)].groupby('centersize')['DIV'].value_counts()['CENTRE WITH LESS THAN 30 CANDIDATES']/acsee[acsee['DIV'].isin(divs)]['centersize'].value_counts()['CENTRE WITH LESS THAN 30 CANDIDATES'])\n",
    "\n",
    "#The population size breakdown is the same order for each group DIV II is where most students land, followed by III, I, IV, 0\n",
    "#+0.6% difference between divsion 0s. However, outside of a 2% difference between Division IIs, no noticeable diffs."
   ]
  },
  {
   "cell_type": "code",
   "execution_count": 52,
   "metadata": {
    "scrolled": true
   },
   "outputs": [
    {
     "data": {
      "text/plain": [
       "center  centersize                         \n",
       "S0101   CENTRE WITH 30 CANDIDATES OR MORE      186\n",
       "S0103   CENTRE WITH 30 CANDIDATES OR MORE      361\n",
       "S0104   CENTRE WITH 30 CANDIDATES OR MORE      108\n",
       "S0106   CENTRE WITH LESS THAN 30 CANDIDATES     21\n",
       "S0107   CENTRE WITH 30 CANDIDATES OR MORE       75\n",
       "S0108   CENTRE WITH 30 CANDIDATES OR MORE      383\n",
       "S0109   CENTRE WITH 30 CANDIDATES OR MORE      364\n",
       "S0110   CENTRE WITH 30 CANDIDATES OR MORE      173\n",
       "S0111   CENTRE WITH LESS THAN 30 CANDIDATES     11\n",
       "S0112   CENTRE WITH 30 CANDIDATES OR MORE      244\n",
       "S0113   CENTRE WITH 30 CANDIDATES OR MORE       42\n",
       "S0114   CENTRE WITH LESS THAN 30 CANDIDATES     18\n",
       "S0115   CENTRE WITH 30 CANDIDATES OR MORE      400\n",
       "S0116   CENTRE WITH 30 CANDIDATES OR MORE      151\n",
       "S0117   CENTRE WITH 30 CANDIDATES OR MORE       34\n",
       "S0118   CENTRE WITH LESS THAN 30 CANDIDATES     17\n",
       "S0119   CENTRE WITH 30 CANDIDATES OR MORE      121\n",
       "S0120   CENTRE WITH 30 CANDIDATES OR MORE      409\n",
       "S0121   CENTRE WITH LESS THAN 30 CANDIDATES     17\n",
       "S0123   CENTRE WITH 30 CANDIDATES OR MORE      319\n",
       "S0124   CENTRE WITH LESS THAN 30 CANDIDATES      7\n",
       "S0125   CENTRE WITH 30 CANDIDATES OR MORE      453\n",
       "S0128   CENTRE WITH 30 CANDIDATES OR MORE      231\n",
       "S0129   CENTRE WITH 30 CANDIDATES OR MORE      213\n",
       "S0130   CENTRE WITH 30 CANDIDATES OR MORE       63\n",
       "S0132   CENTRE WITH 30 CANDIDATES OR MORE      430\n",
       "S0133   CENTRE WITH 30 CANDIDATES OR MORE      329\n",
       "S0134   CENTRE WITH 30 CANDIDATES OR MORE      221\n",
       "S0135   CENTRE WITH 30 CANDIDATES OR MORE      187\n",
       "S0136   CENTRE WITH 30 CANDIDATES OR MORE      250\n",
       "                                              ... \n",
       "S4894   CENTRE WITH 30 CANDIDATES OR MORE       39\n",
       "S4922   CENTRE WITH LESS THAN 30 CANDIDATES     14\n",
       "S4929   CENTRE WITH 30 CANDIDATES OR MORE      232\n",
       "S5000   CENTRE WITH 30 CANDIDATES OR MORE       51\n",
       "S5014   CENTRE WITH 30 CANDIDATES OR MORE       33\n",
       "S5047   CENTRE WITH 30 CANDIDATES OR MORE       65\n",
       "S5098   CENTRE WITH 30 CANDIDATES OR MORE      187\n",
       "S5114   CENTRE WITH 30 CANDIDATES OR MORE       54\n",
       "S5122   CENTRE WITH 30 CANDIDATES OR MORE      104\n",
       "S5130   CENTRE WITH LESS THAN 30 CANDIDATES     20\n",
       "S5145   CENTRE WITH 30 CANDIDATES OR MORE      182\n",
       "S5150   CENTRE WITH 30 CANDIDATES OR MORE       93\n",
       "S5151   CENTRE WITH 30 CANDIDATES OR MORE      174\n",
       "S5159   CENTRE WITH LESS THAN 30 CANDIDATES     16\n",
       "S5171   CENTRE WITH 30 CANDIDATES OR MORE      103\n",
       "S5196   CENTRE WITH 30 CANDIDATES OR MORE       42\n",
       "S5208   CENTRE WITH LESS THAN 30 CANDIDATES     19\n",
       "S5231   CENTRE WITH LESS THAN 30 CANDIDATES      5\n",
       "S5233   CENTRE WITH 30 CANDIDATES OR MORE       60\n",
       "S5236   CENTRE WITH LESS THAN 30 CANDIDATES     11\n",
       "S5244   CENTRE WITH 30 CANDIDATES OR MORE       56\n",
       "S5249   CENTRE WITH 30 CANDIDATES OR MORE       50\n",
       "S5260   CENTRE WITH 30 CANDIDATES OR MORE       77\n",
       "S5325   CENTRE WITH LESS THAN 30 CANDIDATES      5\n",
       "S5333   CENTRE WITH LESS THAN 30 CANDIDATES     11\n",
       "S5353   CENTRE WITH 30 CANDIDATES OR MORE      168\n",
       "S5394   CENTRE WITH 30 CANDIDATES OR MORE       73\n",
       "S5450   CENTRE WITH LESS THAN 30 CANDIDATES      2\n",
       "S5555   CENTRE WITH 30 CANDIDATES OR MORE       32\n",
       "S5567   CENTRE WITH 30 CANDIDATES OR MORE       44\n",
       "Name: CNO, Length: 674, dtype: int64"
      ]
     },
     "execution_count": 52,
     "metadata": {},
     "output_type": "execute_result"
    }
   ],
   "source": [
    "#Well that's surprising, why isn't there a noticeable difference between the two types of centers? Let's check to see\n",
    "#the spread of the number of students for each center.\n",
    "acsee[acsee['DIV'].isin(divs)].groupby('region').count()['CNO'] #students per region\n",
    "acsee[acsee['DIV'].isin(divs)].groupby(['center']).count()['CNO'] #students per center\n",
    "acsee[acsee['DIV'].isin(divs)].groupby(['center', 'centersize']).count()['CNO'] #students per center with centersize"
   ]
  },
  {
   "cell_type": "code",
   "execution_count": 71,
   "metadata": {},
   "outputs": [
    {
     "name": "stdout",
     "output_type": "stream",
     "text": [
      "30 candidates or more - # of students distribution\n",
      " count    544.000000\n",
      "mean     136.720588\n",
      "std      110.745087\n",
      "min       30.000000\n",
      "25%       57.000000\n",
      "50%      100.500000\n",
      "75%      174.000000\n",
      "max      828.000000\n",
      "Name: CNO, dtype: float64\n",
      "Less than 30 candidates - # of students distribution\n",
      " count    130.000000\n",
      "mean      17.269231\n",
      "std        7.561416\n",
      "min        1.000000\n",
      "25%       12.000000\n",
      "50%       18.000000\n",
      "75%       23.750000\n",
      "max       29.000000\n",
      "Name: CNO, dtype: float64\n"
     ]
    },
    {
     "data": {
      "image/png": "[encoded data removed]",
      "text/plain": [
       "<Figure size 432x288 with 2 Axes>"
      ]
     },
     "execution_count": 71,
     "metadata": {},
     "output_type": "execute_result"
    }
   ],
   "source": [
    "#Distribution of # of Students at the official size tiers\n",
    "fig, (ax1, ax2) = plt.subplots(ncols = 2)\n",
    "print(\"30 candidates or more - # of students distribution\\n\", acsee[acsee['DIV'].isin(divs)].groupby(['center', 'centersize']).count()['CNO'][:, 'CENTRE WITH 30 CANDIDATES OR MORE'].describe())\n",
    "acsee[acsee['DIV'].isin(divs)].groupby(['center', 'centersize']).count()['CNO'][:, 'CENTRE WITH 30 CANDIDATES OR MORE'].plot(kind='hist', ax = ax1,\n",
    "                                                                                                                            title = '30 or More')\n",
    "\n",
    "print(\"Less than 30 candidates - # of students distribution\\n\", acsee[acsee['DIV'].isin(divs)].groupby(['center', 'centersize']).count()['CNO'][:, 'CENTRE WITH LESS THAN 30 CANDIDATES'].describe())\n",
    "acsee[acsee['DIV'].isin(divs)].groupby(['center', 'centersize']).count()['CNO'][:, 'CENTRE WITH LESS THAN 30 CANDIDATES'].plot(kind='hist', ax = ax2,\n",
    "                                                                                                                              title = 'Less than 30')\n",
    "plt.close()\n",
    "fig.tight_layout()\n",
    "fig"
   ]
  },
  {
   "cell_type": "code",
   "execution_count": 111,
   "metadata": {},
   "outputs": [
    {
     "name": "stdout",
     "output_type": "stream",
     "text": [
      "135\n",
      "127\n",
      "81\n",
      "186\n",
      "59\n",
      "53\n"
     ]
    }
   ],
   "source": [
    "#It seems it might be helpful to disaggregate the 30 or More group of schools\n",
    "center_students = pd.DataFrame(acsee[acsee['DIV'].isin(divs)].groupby(['center']).count()['CNO']).reset_index()\n",
    "center_students.rename(columns = {'CNO': 'numstudents'}, inplace=True)\n",
    "len(center_students[(center_students['numstudents'] > 200) & (center_students['numstudents'] < 300)])\n",
    "\n",
    "#Most are between 30 and 100 sutdents\n",
    "#Possible new intervals 30-50, 50-75, 75-100, 100-200, 200-300, 300-900\n",
    "new_sizes = ['30-50', '50-75', '75-100', '100-200', '200-300', '300-900']\n",
    "new_sizes_dict = dict.fromkeys(new_sizes)\n",
    "for k,v in new_sizes_dict.items():\n",
    "    new_v = (int(k.split('-')[0]), int(k.split('-')[1]))\n",
    "    new_sizes_dict[k] = new_v\n",
    "\n",
    "for k,v in new_sizes_dict.items():\n",
    "    print(len(center_students[(center_students['numstudents'] >= v[0]) & (center_students['numstudents'] < v[1])]))\n",
    "#Not very scientifically done and groupings aren't as even as possible, but better distribution than 544 vs. 130. Let's see how\n",
    "#performance compares for this new disaggregation"
   ]
  },
  {
   "cell_type": "code",
   "execution_count": 163,
   "metadata": {
    "scrolled": true
   },
   "outputs": [
    {
     "data": {
      "text/plain": [
       "array(['50-75', '< 30', '100-200', '75-100', '30-50', '200-300',\n",
       "       '300-900'], dtype=object)"
      ]
     },
     "execution_count": 163,
     "metadata": {},
     "output_type": "execute_result"
    }
   ],
   "source": [
    "#center_students\n",
    "acsee = acsee.merge(center_students, how = 'left', on='center')\n",
    "#acsee['new_centersize'] = if numstudents is >= first val and < second val of the value, then return the key\n",
    "new_sizes_dict['< 30'] = (0, 30)\n",
    "\n",
    "def get_new_centersize(num, sizesdict):\n",
    "    #rev sizesdict is tuple: 'interval'\n",
    "    for k, v in sizesdict.items():\n",
    "        if num >= v[0] and num < v[1]:\n",
    "            return k\n",
    "\n",
    "acsee['new_centersize'] = acsee['numstudents'].apply(lambda x: get_new_centersize(x, new_sizes_dict))\n",
    "acsee['new_centersize'].unique()\n",
    "\n",
    "#del acsee['numstudents_x'], acsee['numstudents_y'], acsee['new_centersize']"
   ]
  },
  {
   "cell_type": "code",
   "execution_count": 193,
   "metadata": {},
   "outputs": [
    {
     "data": {
      "text/plain": [
       "[('30-50', (30, 50)),\n",
       " ('50-75', (50, 75)),\n",
       " ('75-100', (75, 100)),\n",
       " ('100-200', (100, 200)),\n",
       " ('200-300', (200, 300)),\n",
       " ('300-900', (300, 900)),\n",
       " ('< 30', (0, 30))]"
      ]
     },
     "execution_count": 193,
     "metadata": {},
     "output_type": "execute_result"
    }
   ],
   "source": [
    "list(new_sizes_dict.items())"
   ]
  },
  {
   "cell_type": "code",
   "execution_count": 196,
   "metadata": {
    "scrolled": false
   },
   "outputs": [
    {
     "name": "stdout",
     "output_type": "stream",
     "text": [
      "30-50 count    96.000000\n",
      "mean     39.125000\n",
      "std       5.423632\n",
      "min      30.000000\n",
      "25%      34.000000\n",
      "50%      39.000000\n",
      "75%      43.000000\n",
      "max      49.000000\n",
      "Name: CNO, dtype: float64\n",
      "50-75 count    103.000000\n",
      "mean      61.087379\n",
      "std        7.341938\n",
      "min       50.000000\n",
      "25%       54.500000\n",
      "50%       61.000000\n",
      "75%       67.000000\n",
      "max       74.000000\n",
      "Name: CNO, dtype: float64\n",
      "75-100 count    70.000000\n",
      "mean     85.414286\n",
      "std       7.198013\n",
      "min      75.000000\n",
      "25%      79.000000\n",
      "50%      85.000000\n",
      "75%      91.750000\n",
      "max      99.000000\n",
      "Name: CNO, dtype: float64\n",
      "100-200 count    167.000000\n",
      "mean     140.598802\n",
      "std       27.942510\n",
      "min      100.000000\n",
      "25%      117.500000\n",
      "50%      137.000000\n",
      "75%      162.000000\n",
      "max      197.000000\n",
      "Name: CNO, dtype: float64\n",
      "200-300 count     56.000000\n",
      "mean     247.250000\n",
      "std       30.850519\n",
      "min      200.000000\n",
      "25%      222.750000\n",
      "50%      241.000000\n",
      "75%      276.250000\n",
      "max      299.000000\n",
      "Name: CNO, dtype: float64\n",
      "300-900 count     52.000000\n",
      "mean     404.288462\n",
      "std       84.999270\n",
      "min      301.000000\n",
      "25%      350.250000\n",
      "50%      393.000000\n",
      "75%      442.000000\n",
      "max      828.000000\n",
      "Name: CNO, dtype: float64\n",
      "< 30 count    130.000000\n",
      "mean      17.269231\n",
      "std        7.561416\n",
      "min        1.000000\n",
      "25%       12.000000\n",
      "50%       18.000000\n",
      "75%       23.750000\n",
      "max       29.000000\n",
      "Name: CNO, dtype: float64\n"
     ]
    },
    {
     "data": {
      "image/png": "[encoded data removed]",
      "text/plain": [
       "<Figure size 1440x1440 with 7 Axes>"
      ]
     },
     "execution_count": 196,
     "metadata": {},
     "output_type": "execute_result"
    }
   ],
   "source": [
    "#len(acsee[acsee.testertype == 'School'].groupby(['new_centersize', 'center'])['CNO'].count()['< 30']) should be 130\n",
    "#We've successfully assigned new size groupings. Let's run the analysis again with the new center sizes:\n",
    "\n",
    "fig, ax = plt.subplots(nrows = 7, figsize = (20,20))\n",
    "\n",
    "for i in range(len(ax)):\n",
    "    print(list(new_sizes_dict.items())[i][0], acsee[(acsee['DIV'].isin(divs)) & (acsee['testertype'] == 'School')].groupby(['center', 'new_centersize']).count()['CNO'][:, list(new_sizes_dict.items())[i][0]].describe())\n",
    "    acsee[(acsee['DIV'].isin(divs)) & (acsee['testertype'] == 'School')].groupby(['center', 'new_centersize']).count()['CNO'][:, list(new_sizes_dict.items())[i][0]].plot(kind='hist', ax = ax[i], title = list(new_sizes_dict.items())[i][0])\n",
    "\n",
    "plt.close()\n",
    "fig.tight_layout()\n",
    "fig"
   ]
  },
  {
   "cell_type": "code",
   "execution_count": 205,
   "metadata": {
    "scrolled": true
   },
   "outputs": [
    {
     "name": "stdout",
     "output_type": "stream",
     "text": [
      "30-50 DIV\n",
      "II     0.465921\n",
      "III    0.395634\n",
      "I      0.099308\n",
      "IV     0.030618\n",
      "0      0.008520\n",
      "Name: DIV, dtype: float64\n",
      "50-75 DIV\n",
      "II     0.481087\n",
      "III    0.374285\n",
      "I      0.105849\n",
      "IV     0.027177\n",
      "0      0.011602\n",
      "Name: DIV, dtype: float64\n",
      "75-100 DIV\n",
      "II     0.486871\n",
      "III    0.331159\n",
      "I      0.148520\n",
      "IV     0.025757\n",
      "0      0.007694\n",
      "Name: DIV, dtype: float64\n",
      "100-200 DIV\n",
      "II     0.450894\n",
      "III    0.388756\n",
      "I      0.122104\n",
      "IV     0.027768\n",
      "0      0.010477\n",
      "Name: DIV, dtype: float64\n",
      "200-300 DIV\n",
      "II     0.435577\n",
      "III    0.428427\n",
      "I      0.088545\n",
      "IV     0.033078\n",
      "0      0.014372\n",
      "Name: DIV, dtype: float64\n",
      "300-900 DIV\n",
      "III    0.438662\n",
      "II     0.410360\n",
      "I      0.092090\n",
      "IV     0.040860\n",
      "0      0.018028\n",
      "Name: DIV, dtype: float64\n",
      "< 30 DIV\n",
      "II     0.464143\n",
      "III    0.402673\n",
      "I      0.100223\n",
      "IV     0.025835\n",
      "0      0.007127\n",
      "Name: DIV, dtype: float64\n"
     ]
    }
   ],
   "source": [
    "#The distributions look better and should allow us to better compare the performance at each size tier\n",
    "for i in range(7):\n",
    "    tier = list(new_sizes_dict.items())[i][0]\n",
    "    print(tier,\n",
    "          acsee[(acsee['DIV'].isin(divs)) & (acsee['testertype'] == 'School')].groupby(['new_centersize'])['DIV'].value_counts()[tier]/acsee[(acsee['DIV'].isin(divs)) & (acsee['testertype'] == 'School')]['new_centersize'].value_counts()[tier])"
   ]
  },
  {
   "cell_type": "code",
   "execution_count": 271,
   "metadata": {
    "scrolled": true
   },
   "outputs": [
    {
     "name": "stdout",
     "output_type": "stream",
     "text": [
      "< 30 AxesSubplot(0.125,0.787927;0.775x0.0920732)\n",
      "30-50 AxesSubplot(0.125,0.677439;0.775x0.0920732)\n",
      "50-75 AxesSubplot(0.125,0.566951;0.775x0.0920732)\n",
      "75-100 AxesSubplot(0.125,0.456463;0.775x0.0920732)\n",
      "100-200 AxesSubplot(0.125,0.345976;0.775x0.0920732)\n",
      "200-300 AxesSubplot(0.125,0.235488;0.775x0.0920732)\n",
      "300-900 AxesSubplot(0.125,0.125;0.775x0.0920732)\n"
     ]
    },
    {
     "data": {
      "image/png": "[encoded data removed]",
      "text/plain": [
       "<Figure size 720x1800 with 7 Axes>"
      ]
     },
     "execution_count": 271,
     "metadata": {},
     "output_type": "execute_result"
    }
   ],
   "source": [
    "#The new acceptable way to make categorical variables - unused for now, instead can use .reindex method\n",
    "from pandas.api.types import CategoricalDtype\n",
    "div_order = ['ABS', '*E', '*R', '*W', '0', 'IV', 'III', 'II', 'I'] #All values must be included in this list, otherwise will be turned to NaN when cat'd\n",
    "acsee['DIV'] = acsee['DIV'].astype(CategoricalDtype(div_order, ordered=True))\n",
    "\n",
    "fig, ax = plt.subplots(nrows=7, figsize = (10,25), sharey=True)\n",
    "for i in range(7):\n",
    "    tier = ([list(new_sizes_dict.items())[-1]] + (list(new_sizes_dict.items())[0:-1]))[i][0]\n",
    "    print(tier,\n",
    "          (acsee[(acsee['DIV'].isin(divs)) & (acsee['testertype'] == 'School')].groupby(['new_centersize'])['DIV'].value_counts()[tier]/acsee[(acsee['DIV'].isin(divs)) & (acsee['testertype'] == 'School')]['new_centersize'].value_counts()[tier]).reindex(divs).plot(kind='bar', ax = ax[i], title = tier, color = 'navy', rot=0))\n",
    "    \n",
    "\n",
    "\n",
    "plt.close()\n",
    "fig.tight_layout()\n",
    "fig\n",
    "\n",
    "#Doing the same as above, but plotting instead, it's easier to see how the trend holds for every size tier except the largest.\n",
    "#The most promising size tier appears to be the 75-100 group. Does this tier correlate to any region?"
   ]
  },
  {
   "cell_type": "code",
   "execution_count": 283,
   "metadata": {},
   "outputs": [
    {
     "data": {
      "text/plain": [
       "KAGERA             0.020957\n",
       "MOROGORO           0.023779\n",
       "MBEYA              0.037378\n",
       "MTWARA             0.050033\n",
       "KILIMANJARO        0.055772\n",
       "PWANI              0.059384\n",
       "GEITA              0.063665\n",
       "DAR ES SALAAM      0.063899\n",
       "MWANZA             0.064910\n",
       "RUKWA              0.066863\n",
       "RUVUMA             0.070297\n",
       "MARA               0.079221\n",
       "TABORA             0.093701\n",
       "IRINGA             0.111759\n",
       "LINDI              0.116059\n",
       "ARUSHA             0.117102\n",
       "SONGWE             0.121116\n",
       "SHINYANGA          0.145032\n",
       "TANGA              0.147808\n",
       "SIMIYU             0.195542\n",
       "DODOMA             0.200765\n",
       "SINGIDA            0.276596\n",
       "MANYARA            0.325000\n",
       "KASKAZINI PEMBA    0.476923\n",
       "KATAVI                  NaN\n",
       "KIGOMA                  NaN\n",
       "KUSINI PEMBA            NaN\n",
       "MJINI MAGHARIBI         NaN\n",
       "NJOMBE                  NaN\n",
       "Name: region, dtype: float64"
      ]
     },
     "execution_count": 283,
     "metadata": {},
     "output_type": "execute_result"
    }
   ],
   "source": [
    "#Mtwara, the highest performing region, only had 5% of its schools in the 75-100 students size tier\n",
    "#Kaskazini Pemba, the third lowest performing region, had the highest share of its schools in that tier.\n",
    "#Not too surprisingly, having a greater concentration of the best performing tier doesn't necessarily translate to performance.\n",
    "numschoolstier75 = acsee[(acsee['new_centersize'] == '75-100') & (acsee['DIV'].isin(divs))]['region'].value_counts()\n",
    "(numschoolstier75/acsee[(acsee['DIV'].isin(divs))]['region'].value_counts()).sort_values(0)"
   ]
  },
  {
   "cell_type": "code",
   "execution_count": 403,
   "metadata": {},
   "outputs": [
    {
     "data": {
      "text/plain": [
       "region  new_centersize\n",
       "GEITA   100-200           0.690994\n",
       "        200-300           0.184006\n",
       "        75-100            0.063665\n",
       "        50-75             0.043478\n",
       "        < 30              0.017857\n",
       "LINDI   100-200           0.443995\n",
       "        200-300           0.275304\n",
       "        75-100            0.116059\n",
       "        50-75             0.097166\n",
       "        < 30              0.067476\n",
       "MTWARA  100-200           0.349566\n",
       "        300-900           0.313542\n",
       "        200-300           0.197465\n",
       "        75-100            0.050033\n",
       "        50-75             0.034690\n",
       "        30-50             0.030020\n",
       "        < 30              0.024683\n",
       "dtype: float64"
      ]
     },
     "execution_count": 403,
     "metadata": {},
     "output_type": "execute_result"
    }
   ],
   "source": [
    "#For the top performing schools, what's their size tier distributions?\n",
    "#For the top 3 schools, find their size tier distributions (total number of schools at each tier)\n",
    "top3numschools = pd.DataFrame(acsee[(acsee['DIV'].isin(divs))].groupby(['region'])['new_centersize'].value_counts()[['GEITA', 'MTWARA', 'LINDI']] )\n",
    "top3numschools.columns = ['numschools']\n",
    "top3numschools.reset_index(inplace=True)\n",
    "top3numschools.set_index(['region', 'new_centersize'], inplace=True)\n",
    "\n",
    "#In order to divide just the three schools (or other select schools), the indices of the dividend/divisor need to match.\n",
    "#This is simple for a single index situation, but trickier for multi-index especially since the divisor is not a scalar -\n",
    "#the divisor is the total number of schools in the region in question. We elect to have a multi-index so that we can have\n",
    "#clear size tier labels for the region without assuming. So we have to replicate the dividend dataframe, add the multi-indices as\n",
    "#columns of the new dataframe (totalschools), reset so that we can map total values (which are scalars) based on the region,\n",
    "#set the multi-index for the new dataframe (totalschools), then divide the two series.\n",
    "\n",
    "totalschools = pd.DataFrame(index = top3numschools.index, columns = ['totalschools']).reset_index()\n",
    "schooltotals = dict(list(zip(acsee[(acsee['DIV'].isin(divs))]['region'].value_counts()[list(top3numschools.index.levels[0])].index, acsee[(acsee['DIV'].isin(divs))]['region'].value_counts()[list(top3numschools.index.levels[0])])))\n",
    "totalschools['totalschools'] = totalschools['region'].apply(lambda x: schooltotals[x] ) #if region is x, put y values\n",
    "totalschools.set_index(['region', 'new_centersize'], inplace=True)\n",
    "top3numschools['numschools']/totalschools['totalschools']\n",
    "\n",
    "#Once again, if 75-100 seems to appear to be the _most_ optimal school size tier, it's a small proportion of the schools\n",
    "#that are found in the highest performing regions. Suggesting that their success is not driven by tier size.\n",
    "#A regression idea: passing % = size_tier_dummies + region_control"
   ]
  }
 ],
 "metadata": {
  "kernelspec": {
   "display_name": "Python 3",
   "language": "python",
   "name": "python3"
  },
  "language_info": {
   "codemirror_mode": {
    "name": "ipython",
    "version": 3
   },
   "file_extension": ".py",
   "mimetype": "text/x-python",
   "name": "python",
   "nbconvert_exporter": "python",
   "pygments_lexer": "ipython3",
   "version": "3.6.5"
  }
 },
 "nbformat": 4,
 "nbformat_minor": 2
}
